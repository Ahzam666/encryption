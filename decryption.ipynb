{
 "cells": [
  {
   "cell_type": "code",
   "execution_count": 2,
   "id": "6e173731",
   "metadata": {},
   "outputs": [],
   "source": [
    "import tkinter as tk\n",
    "from tkinter import filedialog\n",
    "from PIL import Image, ImageTk\n",
    "import numpy as np\n",
    "\n",
    "def decrypt_image():\n",
    "    encrypted_img = Image.open(encrypted_image_path)\n",
    "    encrypted_img_array = np.array(encrypted_img)\n",
    "    decrypted_img2 = encrypted_img_array % 16\n",
    "    decrypted_img_array = decrypted_img2 * 16\n",
    "    decrypted_img = Image.fromarray(decrypted_img_array.astype('uint8'))\n",
    "    \n",
    "    # Display the decrypted image\n",
    "    decrypted_photo = ImageTk.PhotoImage(decrypted_img)\n",
    "    decrypted_label.config(image=decrypted_photo)\n",
    "    decrypted_label.photo = decrypted_photo  # Prevent PhotoImage from being garbage collected\n",
    "\n",
    "def browse_encrypted_image():\n",
    "    global encrypted_image_path\n",
    "    encrypted_image_path = filedialog.askopenfilename(filetypes=[(\"Image files\", \"*.bmp *.png *.jpg *.jpeg\")])\n",
    "    encrypted_img = Image.open(encrypted_image_path)\n",
    "    encrypted_photo = ImageTk.PhotoImage(encrypted_img)\n",
    "    encrypted_label.config(image=encrypted_photo)\n",
    "    encrypted_label.photo = encrypted_photo  # Prevent PhotoImage from being garbage collected\n",
    "\n",
    "# Create the main application window\n",
    "root = tk.Tk()\n",
    "root.title(\"Image Decryption Tool\")\n",
    "\n",
    "# Browse button for encrypted image\n",
    "encrypted_button = tk.Button(root, text=\"Browse Encrypted Image\", command=browse_encrypted_image)\n",
    "encrypted_button.pack()\n",
    "\n",
    "# Decrypt button\n",
    "decrypt_button = tk.Button(root, text=\"Decrypt Image\", command=decrypt_image)\n",
    "decrypt_button.pack()\n",
    "\n",
    "# Label to display decrypted image\n",
    "decrypted_label = tk.Label(root)\n",
    "decrypted_label.pack()\n",
    "\n",
    "# Label to display encrypted image\n",
    "encrypted_label = tk.Label(root)\n",
    "encrypted_label.pack()\n",
    "\n",
    "# Start the GUI event loop\n",
    "root.mainloop()\n",
    "\n"
   ]
  },
  {
   "cell_type": "code",
   "execution_count": null,
   "id": "d26cf5a1-17f4-4ac2-8ccf-315e3952843d",
   "metadata": {},
   "outputs": [],
   "source": []
  }
 ],
 "metadata": {
  "kernelspec": {
   "display_name": "Python 3 (ipykernel)",
   "language": "python",
   "name": "python3"
  },
  "language_info": {
   "codemirror_mode": {
    "name": "ipython",
    "version": 3
   },
   "file_extension": ".py",
   "mimetype": "text/x-python",
   "name": "python",
   "nbconvert_exporter": "python",
   "pygments_lexer": "ipython3",
   "version": "3.11.5"
  }
 },
 "nbformat": 4,
 "nbformat_minor": 5
}
